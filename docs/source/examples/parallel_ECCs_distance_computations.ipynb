{
 "cells": [
  {
   "cell_type": "code",
   "execution_count": null,
   "metadata": {},
   "outputs": [],
   "source": [
    "import numpy as np\n",
    "import matplotlib.pyplot as plt\n",
    "import random\n",
    "from tqdm.notebook import tqdm"
   ]
  },
  {
   "cell_type": "code",
   "execution_count": null,
   "metadata": {},
   "outputs": [],
   "source": [
    "from pyEulerCurves import ECC_from_pointcloud, plot_euler_curve, difference_ECC"
   ]
  },
  {
   "cell_type": "markdown",
   "metadata": {},
   "source": [
    "# Some parameters"
   ]
  },
  {
   "cell_type": "code",
   "execution_count": null,
   "metadata": {},
   "outputs": [],
   "source": [
    "NUMBER_OF_POINTS = 50\n",
    "NUMBER_OF_SAMPLES = 200\n",
    "\n",
    "EPSILON = 0.5"
   ]
  },
  {
   "cell_type": "markdown",
   "metadata": {},
   "source": [
    "# Sample points from the unit circle\n"
   ]
  },
  {
   "cell_type": "code",
   "execution_count": null,
   "metadata": {},
   "outputs": [],
   "source": [
    "point_clouds = []\n",
    "\n",
    "random.seed(42)\n",
    "for n in range(NUMBER_OF_SAMPLES):\n",
    "    this_cloud = []\n",
    "    \n",
    "    for i in range(NUMBER_OF_POINTS):\n",
    "        angle = random.uniform(0,2*np.pi)\n",
    "        this_cloud.append([np.cos(angle), np.sin(angle)])\n",
    "    \n",
    "    point_clouds.append(np.array(this_cloud))"
   ]
  },
  {
   "cell_type": "markdown",
   "metadata": {},
   "source": [
    "# Compute ECCs"
   ]
  },
  {
   "cell_type": "code",
   "execution_count": null,
   "metadata": {},
   "outputs": [],
   "source": [
    "trans = ECC_from_pointcloud(epsilon=EPSILON, # max filtration\n",
    "                            workers=1    # number of CPU cores\n",
    "                           )\n",
    "\n",
    "list_of_ECC = [trans.fit_transform(cloud) for cloud in tqdm(point_clouds)]"
   ]
  },
  {
   "cell_type": "markdown",
   "metadata": {},
   "source": [
    "# Compute distance matrix"
   ]
  },
  {
   "cell_type": "markdown",
   "metadata": {},
   "source": [
    "## Naive way with double for loop"
   ]
  },
  {
   "cell_type": "code",
   "execution_count": null,
   "metadata": {},
   "outputs": [],
   "source": [
    "%%time\n",
    "\n",
    "distance_matrix = np.zeros((NUMBER_OF_SAMPLES, NUMBER_OF_SAMPLES))\n",
    "\n",
    "for i in range(len(list_of_ECC)):\n",
    "    for j in range(i+1, len(list_of_ECC)):\n",
    "        distance_matrix[i,j] = difference_ECC(list_of_ECC[i], list_of_ECC[j], max_f = EPSILON)\n",
    "        distance_matrix[j,i] = distance_matrix[i,j]"
   ]
  },
  {
   "cell_type": "markdown",
   "metadata": {},
   "source": [
    "## Compute one row at a time"
   ]
  },
  {
   "cell_type": "code",
   "execution_count": null,
   "metadata": {},
   "outputs": [],
   "source": [
    "# the matrix is symmetric, we only compute upper triangular part\n",
    "def compute_row_distance_matrix(list_of_ECC, i, max_f):\n",
    "    return [difference_ECC(list_of_ECC[i], other_ECC, max_f) \n",
    "            for other_ECC in list_of_ECC[i+1:]]"
   ]
  },
  {
   "cell_type": "code",
   "execution_count": null,
   "metadata": {},
   "outputs": [],
   "source": [
    "%%time\n",
    "\n",
    "distance_matrix2 = np.zeros((NUMBER_OF_SAMPLES, NUMBER_OF_SAMPLES))\n",
    "\n",
    "for i in range(len(list_of_ECC)):\n",
    "    distance_matrix2[i, i+1:] = compute_row_distance_matrix(list_of_ECC, i, max_f = EPSILON)\n",
    "    distance_matrix2[i+1: ,i] = distance_matrix2[i, i+1:]"
   ]
  },
  {
   "cell_type": "code",
   "execution_count": null,
   "metadata": {},
   "outputs": [],
   "source": [
    "# check that we computed the same thing\n",
    "(distance_matrix == distance_matrix2).all()"
   ]
  },
  {
   "cell_type": "markdown",
   "metadata": {},
   "source": [
    "## Compute one row at a time, in parallel"
   ]
  },
  {
   "cell_type": "code",
   "execution_count": null,
   "metadata": {},
   "outputs": [],
   "source": [
    "import itertools\n",
    "from concurrent.futures import ProcessPoolExecutor"
   ]
  },
  {
   "cell_type": "code",
   "execution_count": null,
   "metadata": {},
   "outputs": [],
   "source": [
    "%%time\n",
    "\n",
    "# If max_workers is None or not given, it will default to the number of processors on the machine.\n",
    "with ProcessPoolExecutor(max_workers=None) as executor:\n",
    "    distance_list = executor.map(\n",
    "        compute_row_distance_matrix,\n",
    "        itertools.repeat(list_of_ECC),\n",
    "        [i for i in range(len(list_of_ECC))],\n",
    "        itertools.repeat(EPSILON),\n",
    "        )\n",
    "    \n",
    "distance_matrix3 = np.zeros((NUMBER_OF_SAMPLES, NUMBER_OF_SAMPLES))\n",
    "for i, row in enumerate(distance_list):\n",
    "    distance_matrix3[i, i+1:] = row\n",
    "    distance_matrix3[i+1: ,i] = row\n"
   ]
  },
  {
   "cell_type": "code",
   "execution_count": null,
   "metadata": {},
   "outputs": [],
   "source": [
    "# check that we computed the same thing\n",
    "(distance_matrix == distance_matrix3).all()"
   ]
  },
  {
   "cell_type": "code",
   "execution_count": null,
   "metadata": {},
   "outputs": [],
   "source": []
  }
 ],
 "metadata": {
  "kernelspec": {
   "display_name": "Python 3 (ipykernel)",
   "language": "python",
   "name": "python3"
  },
  "language_info": {
   "codemirror_mode": {
    "name": "ipython",
    "version": 3
   },
   "file_extension": ".py",
   "mimetype": "text/x-python",
   "name": "python",
   "nbconvert_exporter": "python",
   "pygments_lexer": "ipython3",
   "version": "3.10.9"
  }
 },
 "nbformat": 4,
 "nbformat_minor": 4
}
