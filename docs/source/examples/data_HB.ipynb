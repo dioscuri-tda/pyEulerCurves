{
 "cells": [
  {
   "cell_type": "code",
   "execution_count": 1,
   "metadata": {},
   "outputs": [],
   "source": [
    "import numpy as np\n",
    "\n",
    "from tqdm.auto import tqdm"
   ]
  },
  {
   "cell_type": "code",
   "execution_count": 2,
   "metadata": {},
   "outputs": [],
   "source": [
    "import pyEulerCurves as pyecc\n",
    "\n",
    "if pyecc.__version__ != \"0.5.post\":\n",
    "    raise ValueError(\"wrong version!!\")"
   ]
  },
  {
   "cell_type": "code",
   "execution_count": 3,
   "metadata": {},
   "outputs": [],
   "source": [
    "from pyEulerCurves.distance_utils import difference_ECP, difference_ECP_naive"
   ]
  },
  {
   "cell_type": "code",
   "execution_count": 4,
   "metadata": {},
   "outputs": [],
   "source": [
    "# pip install memory_profiler\n",
    "%load_ext memory_profiler"
   ]
  },
  {
   "cell_type": "code",
   "execution_count": 5,
   "metadata": {},
   "outputs": [],
   "source": [
    "def Hopf_bifurcation(x, y, B):\n",
    "\n",
    "    Hopf_bifurcation = np.zeros((x.shape[0], y.shape[0], 2))\n",
    "    Hopf_bifurcation[:, :, 0] = B * x - y - x * (x**2 + y**2)\n",
    "    Hopf_bifurcation[:, :, 1] = x + B * y - y * (x**2 + y**2)\n",
    "\n",
    "    return Hopf_bifurcation\n",
    "\n",
    "\n",
    "x_min, x_max = -2, 2\n",
    "y_min, y_max = -2, 2\n",
    "\n",
    "SIZE = 1001\n",
    "\n",
    "x_points, y_points = SIZE, SIZE\n",
    "\n",
    "x = np.linspace(x_min, x_max, x_points)\n",
    "y = np.linspace(y_min, y_max, y_points)\n",
    "X, Y = np.meshgrid(x, y)\n",
    "\n",
    "all_examples_Hb = []\n",
    "b_values = np.array([-1, -0.1, 0.1, 1])\n",
    "names_Hb = []\n",
    "\n",
    "# set the seed for reproducibility\n",
    "rng = np.random.default_rng(seed=42)\n",
    "\n",
    "for b in b_values:\n",
    "    # without noisy\n",
    "    Hb_clean = Hopf_bifurcation(X, Y, b)\n",
    "    all_examples_Hb.append(Hb_clean)\n",
    "    names_Hb.append(f\"Hopf bifurcation b={b:.1f} (clean)\")\n",
    "\n",
    "    # with noisy (1/3)\n",
    "    noise_x = rng.normal(loc=0.0, scale=np.abs(X) / 3, size=X.shape)\n",
    "    noise_y = rng.normal(loc=0.0, scale=np.abs(Y) / 3, size=Y.shape)\n",
    "    Hb_noisy = Hb_clean.copy()\n",
    "    Hb_noisy[:, :, 0] += noise_x\n",
    "    Hb_noisy[:, :, 1] += noise_y\n",
    "\n",
    "    all_examples_Hb.append(Hb_noisy)\n",
    "    names_Hb.append(f\"Hopf bifurcation b={b:.1f} (noisy)\")"
   ]
  },
  {
   "cell_type": "code",
   "execution_count": 6,
   "metadata": {},
   "outputs": [
    {
     "data": {
      "text/plain": [
       "8"
      ]
     },
     "execution_count": 6,
     "metadata": {},
     "output_type": "execute_result"
    }
   ],
   "source": [
    "len(all_examples_Hb)"
   ]
  },
  {
   "cell_type": "code",
   "execution_count": 7,
   "metadata": {},
   "outputs": [
    {
     "data": {
      "text/plain": [
       "(1001, 1001, 2)"
      ]
     },
     "execution_count": 7,
     "metadata": {},
     "output_type": "execute_result"
    }
   ],
   "source": [
    "all_examples_Hb[0].shape"
   ]
  },
  {
   "cell_type": "code",
   "execution_count": 8,
   "metadata": {},
   "outputs": [
    {
     "data": {
      "application/vnd.jupyter.widget-view+json": {
       "model_id": "0f9d7864c01743d8b622ba9bf0f3ddc8",
       "version_major": 2,
       "version_minor": 0
      },
      "text/plain": [
       "0it [00:00, ?it/s]"
      ]
     },
     "metadata": {},
     "output_type": "display_data"
    },
    {
     "name": "stdout",
     "output_type": "stream",
     "text": [
      "(1005004, 2)\n",
      "Parallel part done\n",
      "Elapsed time: 6.3 seconds\n",
      "Merged 1003 dicts\n",
      "Elapsed time: 3.2 seconds\n",
      "(1005004, 2)\n",
      "Parallel part done\n",
      "Elapsed time: 6.6 seconds\n",
      "Merged 1003 dicts\n",
      "Elapsed time: 3.6 seconds\n"
     ]
    }
   ],
   "source": [
    "# compute contributions (just the first 2)\n",
    "ecp_matrix_Hb = []\n",
    "trans = pyecc.ECC_from_bitmap(multifiltration=True, workers=1)\n",
    "\n",
    "for i, ex in tqdm(enumerate(all_examples_Hb[:2])):\n",
    "    ecc = trans.fit_transform(ex)\n",
    "    ecp_matrix_Hb.append(trans.contributions_list)"
   ]
  },
  {
   "cell_type": "code",
   "execution_count": 9,
   "metadata": {},
   "outputs": [],
   "source": [
    "# Save to file\n",
    "for i, ecp in enumerate(ecp_matrix_Hb):\n",
    "    with open(\"data/hopf/hopf_{}\".format(i), \"w\") as f:\n",
    "        for (x, y), val in ecp:\n",
    "            f.write(f\"{x} {y} {val}\\n\")"
   ]
  },
  {
   "cell_type": "code",
   "execution_count": 10,
   "metadata": {},
   "outputs": [
    {
     "name": "stdout",
     "output_type": "stream",
     "text": [
      "[-21.32454426 -21.1318429 ]\n",
      "[21.52111718 21.45778087]\n"
     ]
    }
   ],
   "source": [
    "## we need to figure out what are the max and min filtration values, so we can correctly compute the distances\n",
    "\n",
    "print(np.min([c.min(axis=(0, 1)) for c in all_examples_Hb], axis=0))\n",
    "print(np.max([c.max(axis=(0, 1)) for c in all_examples_Hb], axis=0))"
   ]
  },
  {
   "cell_type": "code",
   "execution_count": 11,
   "metadata": {},
   "outputs": [],
   "source": [
    "## lets do from -22 to +22\n",
    "## numba wants them to be floats\n",
    "dims = ((-22.0, 22.0), (-22.0, 22.0))"
   ]
  },
  {
   "cell_type": "code",
   "execution_count": 12,
   "metadata": {},
   "outputs": [
    {
     "name": "stdout",
     "output_type": "stream",
     "text": [
      "1228557\n",
      "1616483\n"
     ]
    }
   ],
   "source": [
    "for c in ecp_matrix_Hb:\n",
    "    print(len(c))"
   ]
  },
  {
   "cell_type": "code",
   "execution_count": 13,
   "metadata": {},
   "outputs": [
    {
     "name": "stdout",
     "output_type": "stream",
     "text": [
      "CPU times: user 3 μs, sys: 1e+03 ns, total: 4 μs\n",
      "Wall time: 4.77 μs\n"
     ]
    },
    {
     "ename": "AssertionError",
     "evalue": "this will probably run out ot memory, use the discretization below",
     "output_type": "error",
     "traceback": [
      "\u001b[31m---------------------------------------------------------------------------\u001b[39m",
      "\u001b[31mAssertionError\u001b[39m                            Traceback (most recent call last)",
      "\u001b[36mCell\u001b[39m\u001b[36m \u001b[39m\u001b[32mIn[13]\u001b[39m\u001b[32m, line 1\u001b[39m\n\u001b[32m----> \u001b[39m\u001b[32m1\u001b[39m \u001b[43mget_ipython\u001b[49m\u001b[43m(\u001b[49m\u001b[43m)\u001b[49m\u001b[43m.\u001b[49m\u001b[43mrun_cell_magic\u001b[49m\u001b[43m(\u001b[49m\u001b[33;43m'\u001b[39;49m\u001b[33;43mtime\u001b[39;49m\u001b[33;43m'\u001b[39;49m\u001b[43m,\u001b[49m\u001b[43m \u001b[49m\u001b[33;43m'\u001b[39;49m\u001b[33;43m'\u001b[39;49m\u001b[43m,\u001b[49m\u001b[43m \u001b[49m\u001b[33;43m\"\u001b[39;49m\u001b[33;43m## time profiling\u001b[39;49m\u001b[38;5;130;43;01m\\n\u001b[39;49;00m\u001b[33;43massert SIZE <= 201, \u001b[39;49m\u001b[33;43m'\u001b[39;49m\u001b[33;43mthis will probably run out ot memory, use the discretization below\u001b[39;49m\u001b[33;43m'\u001b[39;49m\u001b[38;5;130;43;01m\\n\u001b[39;49;00m\u001b[38;5;130;43;01m\\n\u001b[39;49;00m\u001b[33;43md1 = difference_ECP(ecp_matrix_Hb[0], ecp_matrix_Hb[1], dims=dims, verbose=True)\u001b[39;49m\u001b[38;5;130;43;01m\\n\u001b[39;49;00m\u001b[33;43mprint(d1)\u001b[39;49m\u001b[38;5;130;43;01m\\n\u001b[39;49;00m\u001b[33;43m\"\u001b[39;49m\u001b[43m)\u001b[49m\n",
      "\u001b[36mFile \u001b[39m\u001b[32m~/miniconda3/envs/ecp/lib/python3.13/site-packages/IPython/core/interactiveshell.py:2565\u001b[39m, in \u001b[36mInteractiveShell.run_cell_magic\u001b[39m\u001b[34m(self, magic_name, line, cell)\u001b[39m\n\u001b[32m   2563\u001b[39m \u001b[38;5;28;01mwith\u001b[39;00m \u001b[38;5;28mself\u001b[39m.builtin_trap:\n\u001b[32m   2564\u001b[39m     args = (magic_arg_s, cell)\n\u001b[32m-> \u001b[39m\u001b[32m2565\u001b[39m     result = \u001b[43mfn\u001b[49m\u001b[43m(\u001b[49m\u001b[43m*\u001b[49m\u001b[43margs\u001b[49m\u001b[43m,\u001b[49m\u001b[43m \u001b[49m\u001b[43m*\u001b[49m\u001b[43m*\u001b[49m\u001b[43mkwargs\u001b[49m\u001b[43m)\u001b[49m\n\u001b[32m   2567\u001b[39m \u001b[38;5;66;03m# The code below prevents the output from being displayed\u001b[39;00m\n\u001b[32m   2568\u001b[39m \u001b[38;5;66;03m# when using magics with decorator @output_can_be_silenced\u001b[39;00m\n\u001b[32m   2569\u001b[39m \u001b[38;5;66;03m# when the last Python token in the expression is a ';'.\u001b[39;00m\n\u001b[32m   2570\u001b[39m \u001b[38;5;28;01mif\u001b[39;00m \u001b[38;5;28mgetattr\u001b[39m(fn, magic.MAGIC_OUTPUT_CAN_BE_SILENCED, \u001b[38;5;28;01mFalse\u001b[39;00m):\n",
      "\u001b[36mFile \u001b[39m\u001b[32m~/miniconda3/envs/ecp/lib/python3.13/site-packages/IPython/core/magics/execution.py:1470\u001b[39m, in \u001b[36mExecutionMagics.time\u001b[39m\u001b[34m(self, line, cell, local_ns)\u001b[39m\n\u001b[32m   1468\u001b[39m \u001b[38;5;28;01mif\u001b[39;00m interrupt_occured:\n\u001b[32m   1469\u001b[39m     \u001b[38;5;28;01mif\u001b[39;00m exit_on_interrupt \u001b[38;5;129;01mand\u001b[39;00m captured_exception:\n\u001b[32m-> \u001b[39m\u001b[32m1470\u001b[39m         \u001b[38;5;28;01mraise\u001b[39;00m captured_exception\n\u001b[32m   1471\u001b[39m     \u001b[38;5;28;01mreturn\u001b[39;00m\n\u001b[32m   1472\u001b[39m \u001b[38;5;28;01mreturn\u001b[39;00m out\n",
      "\u001b[36mFile \u001b[39m\u001b[32m~/miniconda3/envs/ecp/lib/python3.13/site-packages/IPython/core/magics/execution.py:1434\u001b[39m, in \u001b[36mExecutionMagics.time\u001b[39m\u001b[34m(self, line, cell, local_ns)\u001b[39m\n\u001b[32m   1432\u001b[39m st = clock2()\n\u001b[32m   1433\u001b[39m \u001b[38;5;28;01mtry\u001b[39;00m:\n\u001b[32m-> \u001b[39m\u001b[32m1434\u001b[39m     \u001b[43mexec\u001b[49m\u001b[43m(\u001b[49m\u001b[43mcode\u001b[49m\u001b[43m,\u001b[49m\u001b[43m \u001b[49m\u001b[43mglob\u001b[49m\u001b[43m,\u001b[49m\u001b[43m \u001b[49m\u001b[43mlocal_ns\u001b[49m\u001b[43m)\u001b[49m\n\u001b[32m   1435\u001b[39m     out = \u001b[38;5;28;01mNone\u001b[39;00m\n\u001b[32m   1436\u001b[39m     \u001b[38;5;66;03m# multi-line %%time case\u001b[39;00m\n",
      "\u001b[36mFile \u001b[39m\u001b[32m<timed exec>:2\u001b[39m\n",
      "\u001b[31mAssertionError\u001b[39m: this will probably run out ot memory, use the discretization below"
     ]
    }
   ],
   "source": [
    "%%time \n",
    "## time profiling\n",
    "assert SIZE <= 201, 'this will probably run out ot memory, use the discretization below'\n",
    "\n",
    "d1 = difference_ECP(ecp_matrix_Hb[0], ecp_matrix_Hb[1], dims=dims, verbose=True)\n",
    "print(d1)"
   ]
  },
  {
   "cell_type": "code",
   "execution_count": null,
   "metadata": {},
   "outputs": [],
   "source": [
    "%%memit \n",
    "## memory profiling\n",
    "assert SIZE <= 201, 'this will probably run out ot memory, use the discretization below'\n",
    "\n",
    "d1 = difference_ECP(ecp_matrix_Hb[0], ecp_matrix_Hb[1], dims=dims, verbose=True)"
   ]
  },
  {
   "cell_type": "code",
   "execution_count": null,
   "metadata": {},
   "outputs": [],
   "source": [
    "## way slower but uses less memory\n",
    "# %%time\n",
    "# d2 = difference_ECP_naive(ecp_matrix_Hb[0], ecp_matrix_Hb[1], dims=dims)\n",
    "# print(d2)\n",
    "\n",
    "## check the two functions return the same value\n",
    "# assert d1 == d2"
   ]
  },
  {
   "cell_type": "markdown",
   "metadata": {},
   "source": [
    "## C++ code\n",
    "computes the distance by discretizing the ECPs on a regular grid, this reduces the input size and therefore the memory requirements"
   ]
  },
  {
   "cell_type": "markdown",
   "metadata": {},
   "source": [
    "you can run terminal commands in a cell using `!`"
   ]
  },
  {
   "cell_type": "code",
   "execution_count": 14,
   "metadata": {},
   "outputs": [],
   "source": [
    "# compile the code, modify ecp_2d.cpp to change the limits and grid size\n",
    "! g++ -std=c++11 -O2 -o ecp_dist ecp_2d.cpp"
   ]
  },
  {
   "cell_type": "code",
   "execution_count": 15,
   "metadata": {},
   "outputs": [
    {
     "name": "stdout",
     "output_type": "stream",
     "text": [
      "Combined bounding box: xmin = -22, xmax = 22, ymin = -22, ymax = 22, x_step = 10000, y_step = 10000\n",
      "L1 distance = 1399753.63\n",
      "        4.28 real         3.61 user         0.31 sys\n",
      "          2082553856  maximum resident set size\n",
      "                   0  average shared memory size\n",
      "                   0  average unshared data size\n",
      "                   0  average unshared stack size\n",
      "              127292  page reclaims\n",
      "                   1  page faults\n",
      "                   0  swaps\n",
      "                   0  block input operations\n",
      "                   0  block output operations\n",
      "                   0  messages sent\n",
      "                   0  messages received\n",
      "                   0  signals received\n",
      "                   0  voluntary context switches\n",
      "                4365  involuntary context switches\n",
      "         53972590750  instructions retired\n",
      "         12334868197  cycles elapsed\n",
      "          2042894464  peak memory footprint\n"
     ]
    }
   ],
   "source": [
    "# run with time and memory profiling\n",
    "# on linux, change the -l flag to -v\n",
    "!/usr/bin/time -l ./ecp_dist data/hopf/hopf_0 data/hopf/hopf_1"
   ]
  },
  {
   "cell_type": "markdown",
   "metadata": {},
   "source": [
    "## Discretize\n",
    "The same result can be achieved by first discretizing the ECPs and then using the python function to compute the distance."
   ]
  },
  {
   "cell_type": "code",
   "execution_count": 16,
   "metadata": {},
   "outputs": [],
   "source": [
    "from pyEulerCurves.distance_utils import discretize_contributions"
   ]
  },
  {
   "cell_type": "markdown",
   "metadata": {},
   "source": [
    "as in the Cpp code, we discretize the contributions on a 10000x1000 grid on ((-22, 22), (-22, 22))"
   ]
  },
  {
   "cell_type": "code",
   "execution_count": 17,
   "metadata": {},
   "outputs": [
    {
     "name": "stdout",
     "output_type": "stream",
     "text": [
      "CPU times: user 7.86 s, sys: 226 ms, total: 8.09 s\n",
      "Wall time: 8.22 s\n"
     ]
    }
   ],
   "source": [
    "%%time\n",
    "discrete_ecp1 = discretize_contributions(ecp_matrix_Hb[0], dims=dims, resolution=(10000, 10000))\n",
    "discrete_ecp2 = discretize_contributions(ecp_matrix_Hb[1], dims=dims, resolution=(10000, 10000))"
   ]
  },
  {
   "cell_type": "code",
   "execution_count": 18,
   "metadata": {},
   "outputs": [
    {
     "name": "stdout",
     "output_type": "stream",
     "text": [
      "peak memory: 2122.31 MiB, increment: 274.22 MiB\n"
     ]
    }
   ],
   "source": [
    "%%memit\n",
    "discrete_ecp1 = discretize_contributions(ecp_matrix_Hb[0], dims=dims, resolution=(10000, 10000))\n",
    "discrete_ecp2 = discretize_contributions(ecp_matrix_Hb[1], dims=dims, resolution=(10000, 10000))"
   ]
  },
  {
   "cell_type": "code",
   "execution_count": 19,
   "metadata": {},
   "outputs": [
    {
     "name": "stdout",
     "output_type": "stream",
     "text": [
      "using optimized numba 2d\n",
      "computing L1 distance in the range (-22.0, -22.0) - (22.0, 22.0)\n",
      "creating ECP matrix of size (8910, 9093)\n",
      "CPU times: user 3.42 s, sys: 234 ms, total: 3.66 s\n",
      "Wall time: 3.76 s\n"
     ]
    },
    {
     "data": {
      "text/plain": [
       "1399753.6391239224"
      ]
     },
     "execution_count": 19,
     "metadata": {},
     "output_type": "execute_result"
    }
   ],
   "source": [
    "%%time\n",
    "difference_ECP(\n",
    "    discrete_ecp1,\n",
    "    discrete_ecp2,\n",
    "    dims=dims,\n",
    "    verbose=True,\n",
    ")"
   ]
  },
  {
   "cell_type": "code",
   "execution_count": 20,
   "metadata": {},
   "outputs": [
    {
     "name": "stdout",
     "output_type": "stream",
     "text": [
      "using optimized numba 2d\n",
      "computing L1 distance in the range (-22.0, -22.0) - (22.0, 22.0)\n",
      "creating ECP matrix of size (8910, 9093)\n",
      "peak memory: 3837.61 MiB, increment: 1726.61 MiB\n"
     ]
    }
   ],
   "source": [
    "%%memit\n",
    "difference_ECP(\n",
    "    discretize_contributions(ecp_matrix_Hb[0], dims=dims, resolution=(10000, 10000)),\n",
    "    discretize_contributions(ecp_matrix_Hb[1], dims=dims, resolution=(10000, 10000)),\n",
    "    dims=dims,\n",
    "    verbose=True,\n",
    ")"
   ]
  },
  {
   "cell_type": "markdown",
   "metadata": {},
   "source": [
    "## Distance matrix"
   ]
  },
  {
   "cell_type": "code",
   "execution_count": null,
   "metadata": {},
   "outputs": [],
   "source": [
    "# ecp_difference_matrix_Hb = np.zeros((len(ecp_matrix_Hb), len(ecp_matrix_Hb)))\n",
    "\n",
    "# # compute difference\n",
    "# for i in tqdm(range(len(ecp_matrix_Hb))):\n",
    "#     for j in tqdm(range(i + 1, len(ecp_matrix_Hb))):\n",
    "#         ecp_difference_matrix_Hb[i, j] = difference_ECP_fast(\n",
    "#             ecp_matrix_Hb[i], ecp_matrix_Hb[j], dims=dims\n",
    "#         )\n",
    "#         ecp_difference_matrix_Hb[j, i] = ecp_difference_matrix_Hb[i, j]"
   ]
  },
  {
   "cell_type": "code",
   "execution_count": null,
   "metadata": {},
   "outputs": [],
   "source": []
  }
 ],
 "metadata": {
  "kernelspec": {
   "display_name": "ecp",
   "language": "python",
   "name": "python3"
  },
  "language_info": {
   "codemirror_mode": {
    "name": "ipython",
    "version": 3
   },
   "file_extension": ".py",
   "mimetype": "text/x-python",
   "name": "python",
   "nbconvert_exporter": "python",
   "pygments_lexer": "ipython3",
   "version": "3.13.5"
  }
 },
 "nbformat": 4,
 "nbformat_minor": 2
}
