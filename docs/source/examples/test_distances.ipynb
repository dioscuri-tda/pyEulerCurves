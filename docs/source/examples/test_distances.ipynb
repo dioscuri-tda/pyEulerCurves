{
 "cells": [
  {
   "cell_type": "code",
   "execution_count": 1,
   "metadata": {},
   "outputs": [],
   "source": [
    "import numpy as np\n",
    "import pandas as pd\n",
    "import matplotlib.pyplot as plt\n",
    "\n",
    "from tqdm.auto import tqdm"
   ]
  },
  {
   "cell_type": "code",
   "execution_count": 2,
   "metadata": {},
   "outputs": [],
   "source": [
    "from pyEulerCurves.distance_utils import *"
   ]
  },
  {
   "cell_type": "code",
   "execution_count": 3,
   "metadata": {},
   "outputs": [],
   "source": [
    "%load_ext memory_profiler"
   ]
  },
  {
   "cell_type": "markdown",
   "metadata": {},
   "source": [
    "## 1d"
   ]
  },
  {
   "cell_type": "code",
   "execution_count": null,
   "metadata": {},
   "outputs": [],
   "source": [
    "rng = np.random.default_rng(seed=42)\n",
    "N = 100000\n",
    "M = 9999\n",
    "\n",
    "contributions_1d = [\n",
    "    (tuple(rng.integers(low=0, high=M, size=1)), rng.integers(low=-5, high=5))\n",
    "    for _ in range(N)\n",
    "]\n",
    "\n",
    "rng2 = np.random.default_rng(seed=66)\n",
    "new_contributions_1d = [\n",
    "    (tuple(rng.integers(low=0, high=M, size=1)), rng.integers(low=-5, high=5))\n",
    "    for _ in range(N)\n",
    "]\n",
    "\n",
    "# uncomment this for some easier cases\n",
    "# contributions_1d += [((50,), 1)]\n",
    "\n",
    "# new_contributions_1d = contributions_1d + [((50,), 3)]"
   ]
  },
  {
   "cell_type": "code",
   "execution_count": null,
   "metadata": {},
   "outputs": [],
   "source": [
    "from pyEulerCurves.ecc_utils import difference_ECC, euler_characteristic_list_from_all"
   ]
  },
  {
   "cell_type": "code",
   "execution_count": null,
   "metadata": {},
   "outputs": [],
   "source": [
    "%%time\n",
    "d1 = difference_ECC(\n",
    "        euler_characteristic_list_from_all(sorted([(f[0], c) for f, c in contributions_1d])), \n",
    "        euler_characteristic_list_from_all(sorted([(f[0], c) for f, c in new_contributions_1d])), \n",
    "        M\n",
    "    )\n",
    "print(d1)"
   ]
  },
  {
   "cell_type": "code",
   "execution_count": null,
   "metadata": {},
   "outputs": [],
   "source": [
    "%%time\n",
    "d2 = difference_ECP_nd(\n",
    "        contributions_1d, new_contributions_1d, [(0, M)], verbose=True\n",
    "    )\n",
    "print(d2)"
   ]
  },
  {
   "cell_type": "code",
   "execution_count": null,
   "metadata": {},
   "outputs": [],
   "source": [
    "assert d1 == d2"
   ]
  },
  {
   "cell_type": "markdown",
   "metadata": {},
   "source": [
    "## 2d"
   ]
  },
  {
   "cell_type": "code",
   "execution_count": 4,
   "metadata": {},
   "outputs": [],
   "source": [
    "rng = np.random.default_rng(seed=42)\n",
    "N = 10\n",
    "M = 99\n",
    "\n",
    "contributions_2d = [\n",
    "    (tuple(rng.integers(low=0, high=M, size=2)), rng.integers(low=-5, high=5))\n",
    "    for _ in range(N)\n",
    "]\n",
    "\n",
    "# rng2 = np.random.default_rng(seed=66)\n",
    "# new_contributions_2d = [\n",
    "#     (tuple(rng.integers(low=0, high=M, size=2)), rng.integers(low=-5, high=5))\n",
    "#     for _ in range(N)\n",
    "# ]\n",
    "\n",
    "new_contributions_2d = contributions_2d + [[(99, 99), 1]]\n",
    "\n",
    "# Save to file\n",
    "for i, ecp in enumerate([contributions_2d, new_contributions_2d]):\n",
    "    with open(\"data/testECP/2d_{}\".format(i), \"w\") as f:\n",
    "        for (x, y), val in ecp:\n",
    "            f.write(f\"{x} {y} {val}\\n\")"
   ]
  },
  {
   "cell_type": "code",
   "execution_count": 5,
   "metadata": {},
   "outputs": [
    {
     "name": "stdout",
     "output_type": "stream",
     "text": [
      "computing L1 distance in the range (0, 0) - (100, 100)\n",
      "1.0\n",
      "CPU times: user 258 μs, sys: 21 μs, total: 279 μs\n",
      "Wall time: 313 μs\n"
     ]
    }
   ],
   "source": [
    "%%time\n",
    "d1 = difference_ECP_naive(\n",
    "        contributions_2d, new_contributions_2d, tuple([(0, M+1) for _ in range(2)]), verbose=True\n",
    "    )\n",
    "print(d1)"
   ]
  },
  {
   "cell_type": "code",
   "execution_count": 6,
   "metadata": {},
   "outputs": [
    {
     "name": "stdout",
     "output_type": "stream",
     "text": [
      "using optimized numba 2d\n",
      "computing L1 distance in the range (0, 0) - (100, 100)\n",
      "creating ECP matrix of size (3, 3)\n",
      "1\n",
      "CPU times: user 277 ms, sys: 20.5 ms, total: 297 ms\n",
      "Wall time: 316 ms\n"
     ]
    }
   ],
   "source": [
    "%%time\n",
    "d2 = difference_ECP(\n",
    "        contributions_2d, new_contributions_2d, tuple([(0, M+1) for _ in range(2)]), verbose=True\n",
    "    )\n",
    "print(d2)"
   ]
  },
  {
   "cell_type": "code",
   "execution_count": 7,
   "metadata": {},
   "outputs": [],
   "source": [
    "assert d1 == d2"
   ]
  },
  {
   "cell_type": "code",
   "execution_count": 8,
   "metadata": {},
   "outputs": [],
   "source": [
    "# %%memit\n",
    "# difference_ECP_naive(\n",
    "#         contributions_2d, new_contributions_2d, tuple([(0,  M+1) for _ in range(2)]), verbose=True\n",
    "#     )\n",
    "\n",
    "# %%memit\n",
    "# difference_ECP_nd(\n",
    "#         contributions_2d, new_contributions_2d, tuple([(0,  M+1) for _ in range(2)]), verbose=True\n",
    "#     )"
   ]
  },
  {
   "cell_type": "code",
   "execution_count": 21,
   "metadata": {},
   "outputs": [
    {
     "name": "stdout",
     "output_type": "stream",
     "text": [
      "[array([44.        , 45.86666667, 47.73333333, 49.6       , 51.46666667,\n",
      "       53.33333333, 55.2       , 57.06666667, 58.93333333, 60.8       ,\n",
      "       62.66666667, 64.53333333, 66.4       , 68.26666667, 70.13333333,\n",
      "       72.        , 73.86666667, 75.73333333, 77.6       , 79.46666667,\n",
      "       81.33333333, 83.2       , 85.06666667, 86.93333333, 88.8       ,\n",
      "       90.66666667, 92.53333333, 94.4       , 96.26666667, 98.13333333]), array([ 0.        ,  3.33333333,  6.66666667, 10.        , 13.33333333,\n",
      "       16.66666667, 20.        , 23.33333333, 26.66666667, 30.        ,\n",
      "       33.33333333, 36.66666667, 40.        , 43.33333333, 46.66666667,\n",
      "       50.        , 53.33333333, 56.66666667, 60.        , 63.33333333,\n",
      "       66.66666667, 70.        , 73.33333333, 76.66666667, 80.        ,\n",
      "       83.33333333, 86.66666667, 90.        , 93.33333333, 96.66666667])]\n",
      "value 8 goes to id -1 - 98.13333333333333\n",
      "value 76 goes to id 22 - 73.33333333333334\n",
      "value 43 goes to id -1 - 98.13333333333333\n",
      "value 42 goes to id 12 - 40.0\n",
      "value 8 goes to id -1 - 98.13333333333333\n",
      "value 69 goes to id 20 - 66.66666666666667\n",
      "value 9 goes to id -1 - 98.13333333333333\n",
      "value 52 goes to id 15 - 50.0\n",
      "value 72 goes to id 15 - 72.0\n",
      "value 75 goes to id 22 - 73.33333333333334\n",
      "value 77 goes to id 17 - 75.73333333333333\n",
      "value 50 goes to id 15 - 50.0\n",
      "value 83 goes to id 20 - 81.33333333333334\n",
      "value 44 goes to id 13 - 43.333333333333336\n",
      "value 36 goes to id -1 - 98.13333333333333\n",
      "value 18 goes to id 5 - 16.666666666666668\n",
      "value 77 goes to id 17 - 75.73333333333333\n",
      "value 63 goes to id 18 - 60.0\n",
      "value 81 goes to id 19 - 79.46666666666667\n",
      "value 53 goes to id 15 - 50.0\n",
      "[array([44.        , 45.86666667, 47.73333333, 49.6       , 51.46666667,\n",
      "       53.33333333, 55.2       , 57.06666667, 58.93333333, 60.8       ,\n",
      "       62.66666667, 64.53333333, 66.4       , 68.26666667, 70.13333333,\n",
      "       72.        , 73.86666667, 75.73333333, 77.6       , 79.46666667,\n",
      "       81.33333333, 83.2       , 85.06666667, 86.93333333, 88.8       ,\n",
      "       90.66666667, 92.53333333, 94.4       , 96.26666667, 98.13333333]), array([ 0.        ,  3.33333333,  6.66666667, 10.        , 13.33333333,\n",
      "       16.66666667, 20.        , 23.33333333, 26.66666667, 30.        ,\n",
      "       33.33333333, 36.66666667, 40.        , 43.33333333, 46.66666667,\n",
      "       50.        , 53.33333333, 56.66666667, 60.        , 63.33333333,\n",
      "       66.66666667, 70.        , 73.33333333, 76.66666667, 80.        ,\n",
      "       83.33333333, 86.66666667, 90.        , 93.33333333, 96.66666667])]\n",
      "value 8 goes to id -1 - 98.13333333333333\n",
      "value 76 goes to id 22 - 73.33333333333334\n",
      "value 43 goes to id -1 - 98.13333333333333\n",
      "value 42 goes to id 12 - 40.0\n",
      "value 8 goes to id -1 - 98.13333333333333\n",
      "value 69 goes to id 20 - 66.66666666666667\n",
      "value 9 goes to id -1 - 98.13333333333333\n",
      "value 52 goes to id 15 - 50.0\n",
      "value 72 goes to id 15 - 72.0\n",
      "value 75 goes to id 22 - 73.33333333333334\n",
      "value 77 goes to id 17 - 75.73333333333333\n",
      "value 50 goes to id 15 - 50.0\n",
      "value 83 goes to id 20 - 81.33333333333334\n",
      "value 44 goes to id 13 - 43.333333333333336\n",
      "value 36 goes to id -1 - 98.13333333333333\n",
      "value 18 goes to id 5 - 16.666666666666668\n",
      "value 77 goes to id 17 - 75.73333333333333\n",
      "value 63 goes to id 18 - 60.0\n",
      "value 81 goes to id 19 - 79.46666666666667\n",
      "value 53 goes to id 15 - 50.0\n",
      "value 99 goes to id 29 - 98.13333333333333\n",
      "value 99 goes to id 29 - 96.66666666666667\n",
      "using optimized numba 2d\n",
      "computing L1 distance in the range (0.0, 0.0) - (100.0, 100.0)\n",
      "creating ECP matrix of size (3, 3)\n"
     ]
    },
    {
     "data": {
      "text/plain": [
       "6.222222222222238"
      ]
     },
     "execution_count": 21,
     "metadata": {},
     "output_type": "execute_result"
    }
   ],
   "source": [
    "difference_ECP(\n",
    "    discretize_contributions(\n",
    "        contributions_2d, dims=((44.0, 100.0), (0.0, 100.0)), resolution=(30, 30)\n",
    "    ),\n",
    "    discretize_contributions(\n",
    "        new_contributions_2d, dims=((44.0, 100.0), (0.0, 100.0)), resolution=(30, 30)\n",
    "    ),\n",
    "    dims=((0.0, 100.0), (0.0, 100.0)),\n",
    "    verbose=True,\n",
    ")"
   ]
  },
  {
   "cell_type": "code",
   "execution_count": 17,
   "metadata": {},
   "outputs": [],
   "source": [
    "# compile the code, modify ecp_2d.cpp to change the limits and grid size\n",
    "! g++ -std=c++11 -O2 -o ecp_dist ecp_2d.cpp"
   ]
  },
  {
   "cell_type": "code",
   "execution_count": 18,
   "metadata": {},
   "outputs": [
    {
     "name": "stdout",
     "output_type": "stream",
     "text": [
      "Combined bounding box: xmin = 44, xmax = 100, ymin = 0, ymax = 100, x_step = 30, y_step = 30\n",
      "Cell edges:\n",
      "44 45.8667 47.7333 49.6 51.4667 53.3333 55.2 57.0667 58.9333 60.8 62.6667 64.5333 66.4 68.2667 70.1333 72 73.8667 75.7333 77.6 79.4667 81.3333 83.2 85.0667 86.9333 88.8 90.6667 92.5333 94.4 96.2667 98.1333 \n",
      "Cell edges:\n",
      "44 45.8667 47.7333 49.6 51.4667 53.3333 55.2 57.0667 58.9333 60.8 62.6667 64.5333 66.4 68.2667 70.1333 72 73.8667 75.7333 77.6 79.4667 81.3333 83.2 85.0667 86.9333 88.8 90.6667 92.5333 94.4 96.2667 98.1333 \n",
      "L1 distance = 6.22\n",
      "./ecp_dist data/testECP/2d_0 data/testECP/2d_1  0.00s user 0.00s system 1% cpu 0.148 total\n"
     ]
    }
   ],
   "source": [
    "# run\n",
    "! time ./ecp_dist data/testECP/2d_0 data/testECP/2d_1"
   ]
  },
  {
   "cell_type": "code",
   "execution_count": null,
   "metadata": {},
   "outputs": [],
   "source": []
  },
  {
   "cell_type": "markdown",
   "metadata": {},
   "source": [
    "## 3d"
   ]
  },
  {
   "cell_type": "code",
   "execution_count": null,
   "metadata": {},
   "outputs": [],
   "source": [
    "rng = np.random.default_rng(seed=42)\n",
    "N = 100\n",
    "\n",
    "contributions_3d = [\n",
    "    (tuple(rng.integers(low=0, high=99, size=3)), rng.integers(low=-5, high=5))\n",
    "    for _ in range(N)\n",
    "]\n",
    "\n",
    "rng2 = np.random.default_rng(seed=66)\n",
    "new_contributions_3d = [\n",
    "    (tuple(rng.integers(low=0, high=99, size=3)), rng.integers(low=-5, high=5))\n",
    "    for _ in range(N)\n",
    "]"
   ]
  },
  {
   "cell_type": "code",
   "execution_count": null,
   "metadata": {},
   "outputs": [],
   "source": [
    "%%time\n",
    "d1 = difference_ECP_naive(\n",
    "        contributions_3d, new_contributions_3d, tuple([(0, 100) for _ in range(3)]), verbose=True\n",
    "    )\n",
    "print(d1)"
   ]
  },
  {
   "cell_type": "code",
   "execution_count": null,
   "metadata": {},
   "outputs": [],
   "source": [
    "%%time\n",
    "d2 = difference_ECP_nd(\n",
    "        contributions_3d, new_contributions_3d, tuple([(0, 100) for _ in range(3)]), verbose=True\n",
    "    )\n",
    "print(d2)"
   ]
  },
  {
   "cell_type": "code",
   "execution_count": null,
   "metadata": {},
   "outputs": [],
   "source": [
    "%memit difference_ECP_nd(contributions_3d, new_contributions_3d, tuple([(0, 100) for _ in range(3)]), verbose=True)"
   ]
  },
  {
   "cell_type": "code",
   "execution_count": null,
   "metadata": {},
   "outputs": [],
   "source": [
    "%memit difference_ECP_naive(contributions_3d, new_contributions_3d, tuple([(0, 100) for _ in range(3)]), verbose=True)"
   ]
  },
  {
   "cell_type": "code",
   "execution_count": null,
   "metadata": {},
   "outputs": [],
   "source": [
    "assert d1 == d2"
   ]
  },
  {
   "cell_type": "markdown",
   "metadata": {},
   "source": [
    "## 4d"
   ]
  },
  {
   "cell_type": "code",
   "execution_count": null,
   "metadata": {},
   "outputs": [],
   "source": [
    "rng = np.random.default_rng(seed=42)\n",
    "N = 50\n",
    "\n",
    "contributions_4d = [\n",
    "    (tuple(rng.integers(low=0, high=99, size=4)), rng.integers(low=-5, high=5))\n",
    "    for _ in range(N)\n",
    "]\n",
    "\n",
    "rng2 = np.random.default_rng(seed=66)\n",
    "new_contributions_4d = [\n",
    "    (tuple(rng.integers(low=0, high=99, size=4)), rng.integers(low=-5, high=5))\n",
    "    for _ in range(N)\n",
    "]"
   ]
  },
  {
   "cell_type": "code",
   "execution_count": null,
   "metadata": {},
   "outputs": [],
   "source": [
    "%%time\n",
    "d1 = difference_ECP_naive(\n",
    "        contributions_4d, new_contributions_4d, tuple([(0, 100) for _ in range(4)]), verbose=True\n",
    "    )\n",
    "print(d1)"
   ]
  },
  {
   "cell_type": "code",
   "execution_count": null,
   "metadata": {},
   "outputs": [],
   "source": [
    "%%time\n",
    "d2 = difference_ECP_nd(\n",
    "        contributions_4d, new_contributions_4d, tuple([(0, 100) for _ in range(4)]), verbose=True\n",
    "    )\n",
    "print(d2)"
   ]
  },
  {
   "cell_type": "code",
   "execution_count": null,
   "metadata": {},
   "outputs": [],
   "source": [
    "assert d1 == d2"
   ]
  },
  {
   "cell_type": "code",
   "execution_count": null,
   "metadata": {},
   "outputs": [],
   "source": [
    "%memit difference_ECP_nd( contributions_4d, new_contributions_4d, tuple([(0, 100) for _ in range(4)]), verbose=True)"
   ]
  },
  {
   "cell_type": "code",
   "execution_count": null,
   "metadata": {},
   "outputs": [],
   "source": [
    "%memit difference_ECP_naive( contributions_4d, new_contributions_4d, tuple([(0, 100) for _ in range(4)]), verbose=True)"
   ]
  },
  {
   "cell_type": "code",
   "execution_count": null,
   "metadata": {},
   "outputs": [],
   "source": []
  }
 ],
 "metadata": {
  "kernelspec": {
   "display_name": "ecp",
   "language": "python",
   "name": "python3"
  },
  "language_info": {
   "codemirror_mode": {
    "name": "ipython",
    "version": 3
   },
   "file_extension": ".py",
   "mimetype": "text/x-python",
   "name": "python",
   "nbconvert_exporter": "python",
   "pygments_lexer": "ipython3",
   "version": "3.13.5"
  }
 },
 "nbformat": 4,
 "nbformat_minor": 2
}
